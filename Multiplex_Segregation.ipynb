{
 "cells": [
  {
   "cell_type": "code",
   "execution_count": 1,
   "metadata": {},
   "outputs": [],
   "source": [
    "%load_ext autoreload\n",
    "%autoreload 2\n",
    "import geopandas as gpd\n",
    "import multiseg as ms\n",
    "import pandas as pd\n",
    "import numpy as np\n",
    "%matplotlib inline \n",
    "from IPython.display import display, Markdown\n",
    "import glob"
   ]
  },
  {
   "cell_type": "code",
   "execution_count": 2,
   "metadata": {},
   "outputs": [],
   "source": [
    "network_type = 'drive'                    #get walkable streets and paths (ignores directionality)\n",
    "retain_all = False                       #retain all only largest connected component\n",
    "crs_osm = {'init':'epsg:4326'}           #crs that osm uses\n",
    "crs_utm = {'init':'epsg:32717'}          #crs that for the city of Cuenca in UTM\n",
    "input_folder = 'data'              #the input urban areas shapefiles folder\n",
    "\n",
    "urban_area = 'Sectores_EC.shp'\n",
    "blocks = 'blocks.shp'                    #the input shapefile name for block geometry\n",
    "busLine = 'bus_lines.shp'                #the input shapefile name for bus lines\n",
    "busStop = 'bus_stops'                    #the input file for all bus stop shaspes\n",
    "allFiles = glob.glob('{}/{}/*.shp'.format(input_folder, busStop)) #list of all bus stop shapes\n",
    "tramLine = 'tram_lines.shp'              #the input shapefile name for tram lines\n",
    "tramStop = 'tram_stops.shp'              #the input shapefile name for tram stops\n",
    "icvIndex = 'blockICV.csv'    #the input csv for calculated ICV index\n",
    "\n",
    "graphs_folder = 'output_data/graphs'     #output folder to save graphs\n",
    "output_path = 'output_data'              #output folder to save the stats\n",
    "output_img = 'output_data/img'           #output folder to save figures"
   ]
  },
  {
   "cell_type": "code",
   "execution_count": 3,
   "metadata": {},
   "outputs": [],
   "source": [
    "#import shapefile as geopandas dataframe\n",
    "blocksGPD =  gpd.read_file('{}/{}'.format(input_folder, blocks))\n",
    "busLineGPD = gpd.read_file('{}/{}'.format(input_folder, busLine))\n",
    "tramLineGPD = gpd.read_file('{}/{}'.format(input_folder, tramLine))\n",
    "tramStopGPD = gpd.read_file('{}/{}'.format(input_folder, tramStop))\n",
    "\n",
    "busStop_list = []\n",
    "\n",
    "for file_ in allFiles:\n",
    "    lineNum = file_.split('linea_',1)[1].split('.')[0]\n",
    "    df = gpd.read_file(file_)\n",
    "    df['lineNum'] = int(lineNum)\n",
    "    busStop_list.append(df)\n",
    "busStopGPD = gpd.GeoDataFrame(pd.concat(busStop_list, ignore_index = True))\n",
    "\n",
    "#import ICV index as pandas dataframe\n",
    "icvIndexDf = pd.read_csv('{}/{}'.format(input_folder, icvIndex), dtype = {\n",
    "    'id_man': str,\n",
    "    'Q1' : np.float64, \n",
    "    'Q2' : np.float64,\n",
    "    'Q3' : np.float64,\n",
    "    'Q4' : np.float64,\n",
    "    'ICV': np.float64,\n",
    "    'nDwelling' : np.int32, \n",
    "    'nPeople' : np.int32    \n",
    "})"
   ]
  },
  {
   "cell_type": "code",
   "execution_count": 4,
   "metadata": {},
   "outputs": [
    {
     "data": {
      "text/markdown": [
       "**General Information**"
      ],
      "text/plain": [
       "<IPython.core.display.Markdown object>"
      ]
     },
     "metadata": {},
     "output_type": "display_data"
    },
    {
     "data": {
      "text/markdown": [
       "&nbsp;&nbsp;&nbsp;&nbsp;Number of Blocks: 3800"
      ],
      "text/plain": [
       "<IPython.core.display.Markdown object>"
      ]
     },
     "metadata": {},
     "output_type": "display_data"
    },
    {
     "data": {
      "text/markdown": [
       "&nbsp;&nbsp;&nbsp;&nbsp;Number of Blocks with ICV: 3391"
      ],
      "text/plain": [
       "<IPython.core.display.Markdown object>"
      ]
     },
     "metadata": {},
     "output_type": "display_data"
    },
    {
     "data": {
      "text/markdown": [
       "&nbsp;&nbsp;&nbsp;&nbsp;Number of Bus Lines: 29"
      ],
      "text/plain": [
       "<IPython.core.display.Markdown object>"
      ]
     },
     "metadata": {},
     "output_type": "display_data"
    },
    {
     "data": {
      "text/markdown": [
       "&nbsp;&nbsp;&nbsp;&nbsp;Number of Bus Stops: 3037"
      ],
      "text/plain": [
       "<IPython.core.display.Markdown object>"
      ]
     },
     "metadata": {},
     "output_type": "display_data"
    },
    {
     "data": {
      "text/markdown": [
       "&nbsp;&nbsp;&nbsp;&nbsp;Number of Tram Lines: 1"
      ],
      "text/plain": [
       "<IPython.core.display.Markdown object>"
      ]
     },
     "metadata": {},
     "output_type": "display_data"
    },
    {
     "data": {
      "text/markdown": [
       "&nbsp;&nbsp;&nbsp;&nbsp;Number of Tram stops: 41"
      ],
      "text/plain": [
       "<IPython.core.display.Markdown object>"
      ]
     },
     "metadata": {},
     "output_type": "display_data"
    }
   ],
   "source": [
    "display(\n",
    "    Markdown('**General Information**'),\n",
    "    Markdown('&nbsp;&nbsp;&nbsp;&nbsp;Number of Blocks: ' + str(len(blocksGPD.index))),\n",
    "    Markdown('&nbsp;&nbsp;&nbsp;&nbsp;Number of Blocks with ICV: ' + str(len(icvIndexDf))),\n",
    "    Markdown('&nbsp;&nbsp;&nbsp;&nbsp;Number of Bus Lines: ' + str(len(busLineGPD.LINEA.unique()))),\n",
    "    Markdown('&nbsp;&nbsp;&nbsp;&nbsp;Number of Bus Stops: ' + str(len(busStopGPD.index))),\n",
    "    Markdown('&nbsp;&nbsp;&nbsp;&nbsp;Number of Tram Lines: ' + str(len(tramLineGPD.FID_.unique()))),\n",
    "    Markdown('&nbsp;&nbsp;&nbsp;&nbsp;Number of Tram stops: ' + str(len(tramStopGPD.index)))\n",
    ")"
   ]
  },
  {
   "cell_type": "code",
   "execution_count": null,
   "metadata": {},
   "outputs": [],
   "source": [
    "alpha = 0.004 - (i*0.0005)\n",
    "temp = ms.boundary_from_areas(blocksGPD, alpha = alpha)\n",
    "base = temp.plot(color = 'white',edgecolor='red',linewidth=1, figsize = (15,10))\n",
    "base.set_title(\"Shape Alpha = {}\".format(alpha))\n",
    "blocksGPD.plot(color = 'white',edgecolor='black',linewidth=0.2,  ax = base)\n",
    "plt.show()"
   ]
  },
  {
   "cell_type": "code",
   "execution_count": 5,
   "metadata": {},
   "outputs": [],
   "source": [
    "geom=blocksGPD.geometry"
   ]
  },
  {
   "cell_type": "code",
   "execution_count": 10,
   "metadata": {},
   "outputs": [],
   "source": [
    "points=ms.get_vertex_of_polygons(geom)"
   ]
  },
  {
   "cell_type": "code",
   "execution_count": 14,
   "metadata": {},
   "outputs": [],
   "source": [
    "test = ms.get_vertex_of_polygons(geom)"
   ]
  },
  {
   "cell_type": "code",
   "execution_count": 9,
   "metadata": {},
   "outputs": [
    {
     "data": {
      "text/plain": [
       "geopandas.geoseries.GeoSeries"
      ]
     },
     "execution_count": 9,
     "metadata": {},
     "output_type": "execute_result"
    }
   ],
   "source": [
    "type(geom)"
   ]
  },
  {
   "cell_type": "code",
   "execution_count": 8,
   "metadata": {},
   "outputs": [
    {
     "data": {
      "text/plain": [
       "geopandas.geoseries.GeoSeries"
      ]
     },
     "execution_count": 8,
     "metadata": {},
     "output_type": "execute_result"
    }
   ],
   "source": [
    "gpd.geoseries.GeoSeries"
   ]
  },
  {
   "cell_type": "code",
   "execution_count": null,
   "metadata": {},
   "outputs": [],
   "source": []
  }
 ],
 "metadata": {
  "kernelspec": {
   "display_name": "Python (multiseg)",
   "language": "python",
   "name": "multiseg"
  },
  "language_info": {
   "codemirror_mode": {
    "name": "ipython",
    "version": 3
   },
   "file_extension": ".py",
   "mimetype": "text/x-python",
   "name": "python",
   "nbconvert_exporter": "python",
   "pygments_lexer": "ipython3",
   "version": "3.6.6"
  }
 },
 "nbformat": 4,
 "nbformat_minor": 2
}
